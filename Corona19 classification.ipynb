{
 "cells": [
  {
   "cell_type": "markdown",
   "metadata": {},
   "source": [
    "# Risk Analysis of Covid19 Virus\n",
    "As the outbreak of coronavirus disease 2019 (COVID-19) progresses, epidemiological data are needed to guide situational awareness and intervention strategies. The enormous impact of the COVID-19 pandemic is obvious. What many still haven’t realized, however, is that the impact on ongoing data science production setups has been dramatic, too. Artificial Intelligence is actively used in identifying high risk patients at an earlier stage and therefore helps to control the spread of the infection in real-time. This becomes particularly important at this time of crisis because real time monitoring is the best option for people to self-isolate and mitigate the spread of the virus."
   ]
  },
  {
   "cell_type": "markdown",
   "metadata": {},
   "source": [
    "Objective: This is an open-research project that a healthcare institute will use to determine the risk factor of second-level contacts traced for a COVID19 Positive patient. This study will also lead to deciding which all factors should be considered for a healthcare institute to open a dedicated testing-quarantine labs and/or predict the possibility of a zone turning into a hotspot."
   ]
  },
  {
   "cell_type": "code",
   "execution_count": 1,
   "metadata": {},
   "outputs": [
    {
     "name": "stderr",
     "output_type": "stream",
     "text": [
      "C:\\Users\\Sony\\Anaconda3\\lib\\site-packages\\sklearn\\ensemble\\weight_boosting.py:29: DeprecationWarning: numpy.core.umath_tests is an internal NumPy module and should not be imported. It will be removed in a future NumPy release.\n",
      "  from numpy.core.umath_tests import inner1d\n"
     ]
    }
   ],
   "source": [
    "import numpy as np\n",
    "import pandas as pd\n",
    "import seaborn as sns\n",
    "from sklearn.neighbors import KNeighborsClassifier\n",
    "from sklearn.metrics import accuracy_score\n",
    "from sklearn import metrics\n",
    "from sklearn import tree\n",
    "from sklearn.model_selection import cross_val_score\n",
    "from sklearn.naive_bayes import GaussianNB\n",
    "from sklearn.model_selection import cross_val_score\n",
    "from sklearn.ensemble import RandomForestClassifier\n",
    "from sklearn.ensemble import AdaBoostClassifier\n",
    "from sklearn.tree import DecisionTreeClassifier"
   ]
  },
  {
   "cell_type": "markdown",
   "metadata": {},
   "source": [
    "# 1. Data Collection:Get the data from APIs"
   ]
  },
  {
   "cell_type": "markdown",
   "metadata": {},
   "source": [
    "Data has been collected by Tanmoy Mukherjee (https://www.kaggle.com/tanmoyx).Dataset has been taken from kaggle with URL as: https://www.kaggle.com/tanmoyx/covid19-patient-precondition-dataset?select=covid.csv .\n",
    "Data is being collected by the Mexican goverment, it contains a large number of anonymised patient-related  information such as pre-existing conditions, gender, age, symptom date and entry date. The data contains patient information around the world.\n",
    "\n",
    "Feature Set:\n",
    "he data set contains 993,197 records, the data dictionary is provided as below:\n",
    "\n",
    "1. id: The identification number of the patient.\n",
    "\n",
    "2. sex: Identify gender of the patient, 1 as female and 2 as male.\n",
    "\n",
    "3. patient_type: Type of patient, 1 for not hospitalized and 2 for hosptalized.\n",
    "\n",
    "4. entry_date: The date that the patient went to the hospital.\n",
    "\n",
    "5. date_symptoms: The date that the patient started to show symptoms.\n",
    "\n",
    "6. date_died: The date that the patient died, \"9999-99-99\" stands for recovered.\n",
    "\n",
    "7. intubed: Intubation is a procedure that's used when you can't breathe on your own. Your doctor puts a tube down your throat and into your windpipe to make it easier to get air into and out of your lungs. A machine called a ventilator pumps in air with extra oxygen. Then it helps you breathe out air that’s full of carbon dioxide (CO2). \"1\" denotes that the patient used ventilator and \"2\" denotes that the patient did not, \"97\" \"98\" \"99\" means not specified.\n",
    "\n",
    "8. pneumonia: Indicates whether the patient already have air sacs inflammation or not \"1\" for yes, \"2\" for no, \"97\" \"98\" \"99\" means not specified.\n",
    "\n",
    "9. age: Specifies the age of the patient.\n",
    "\n",
    "10. pregnancy: Indicates whether the patient is pregnant or not, \"1\" for yes, \"2\" for no, \"97\" \"98\" \"99\" means not specified.\n",
    "\n",
    "11. diabetes: Indicates whether the patient has diabetes or not, \"1\" for yes, \"2\" for no, \"97\" \"98\" \"99\" means not specified.\n",
    "\n",
    "12. copd: Indicates whether the patient has Chronic obstructive pulmonary disease (COPD) or not, \"1\" for yes, \"2\" for no, \"97\" \"98\" \"99\" means not specified.\n",
    "\n",
    "13. asthma: Indiactes whether the patient has asthma or not, \"1\" for yes, \"2\" for no, \"97\" \"98\" \"99\" means not specified.\n",
    "\n",
    "14. inmsupr: Indicates whether the patient is immunosuppressed or not, \"1\" for yes, \"2\" for no, \"97\" \"98\" \"99\" means not specified.\n",
    "\n",
    "15. hypertension: Indicates whether the patient has hypertension or not, \"1\" for yes, \"2\" for no, \"97\" \"98\" \"99\" means not specified.\n",
    "\n",
    "16. other_disease: Indicates whether the patient has other disease or not, \"1\" for yes, \"2\" for no, \"97\" \"98\" \"99\" means not specified.\n",
    "\n",
    "17. cardiovascular: Indicates whether if the patient has heart or blood vessels realted disease, \"1\" for yes, \"2\" for no, \"97\" \"98\" \"99\" means not specified.\n",
    "\n",
    "18. obesity: Indicates whether the patient is obese or not,  \"1\" for yes, \"2\" for no, \"97\" \"98\" \"99\" means not specified.\n",
    "\n",
    "19. renal_chronic: Indicates whether the patient has chronic renal disease or not,  \"1\" for yes, \"2\" for no, \"97\" \"98\" \"99\" means not specified.\n",
    "\n",
    "20. tobacco: Indicates whether if the patient is a tobacco user, \"1\" for yes, \"2\" for no, \"97\" \"98\" \"99\" means not specified.\n",
    "\n",
    "21. contact_other_covid: Indicates whether if the patient has contacted another covid19 patient.\n",
    "\n",
    "22. covid_res: RESULT Identifies the result of the analysis of the sample reported by the laboratory of the National Network of Epidemiological Surveillance Laboratories (INDRE, LESP and LAVE). ( \"1\" for positive,\"2\" for negative, \"3\" for result is pending.\n",
    "\n",
    "22. icu: Indicates whether the if the patient had been admitted to an Intensive Care Unit (ICU), \"1\" for yes, \"2\" for no, \"97\" \"98\" \"99\" means not specified.\n"
   ]
  },
  {
   "cell_type": "code",
   "execution_count": 2,
   "metadata": {},
   "outputs": [
    {
     "data": {
      "text/html": [
       "<div>\n",
       "<style scoped>\n",
       "    .dataframe tbody tr th:only-of-type {\n",
       "        vertical-align: middle;\n",
       "    }\n",
       "\n",
       "    .dataframe tbody tr th {\n",
       "        vertical-align: top;\n",
       "    }\n",
       "\n",
       "    .dataframe thead th {\n",
       "        text-align: right;\n",
       "    }\n",
       "</style>\n",
       "<table border=\"1\" class=\"dataframe\">\n",
       "  <thead>\n",
       "    <tr style=\"text-align: right;\">\n",
       "      <th></th>\n",
       "      <th>id</th>\n",
       "      <th>sex</th>\n",
       "      <th>patient_type</th>\n",
       "      <th>entry_date</th>\n",
       "      <th>date_symptoms</th>\n",
       "      <th>date_died</th>\n",
       "      <th>intubed</th>\n",
       "      <th>pneumonia</th>\n",
       "      <th>age</th>\n",
       "      <th>pregnancy</th>\n",
       "      <th>...</th>\n",
       "      <th>inmsupr</th>\n",
       "      <th>hypertension</th>\n",
       "      <th>other_disease</th>\n",
       "      <th>cardiovascular</th>\n",
       "      <th>obesity</th>\n",
       "      <th>renal_chronic</th>\n",
       "      <th>tobacco</th>\n",
       "      <th>contact_other_covid</th>\n",
       "      <th>covid_res</th>\n",
       "      <th>icu</th>\n",
       "    </tr>\n",
       "  </thead>\n",
       "  <tbody>\n",
       "    <tr>\n",
       "      <th>0</th>\n",
       "      <td>16169f</td>\n",
       "      <td>2</td>\n",
       "      <td>1</td>\n",
       "      <td>4/5/2020</td>\n",
       "      <td>2/5/2020</td>\n",
       "      <td>9999-99-99</td>\n",
       "      <td>97</td>\n",
       "      <td>2</td>\n",
       "      <td>27</td>\n",
       "      <td>97</td>\n",
       "      <td>...</td>\n",
       "      <td>2</td>\n",
       "      <td>2</td>\n",
       "      <td>2</td>\n",
       "      <td>2</td>\n",
       "      <td>2</td>\n",
       "      <td>2</td>\n",
       "      <td>2</td>\n",
       "      <td>2</td>\n",
       "      <td>1</td>\n",
       "      <td>97</td>\n",
       "    </tr>\n",
       "    <tr>\n",
       "      <th>1</th>\n",
       "      <td>1009bf</td>\n",
       "      <td>2</td>\n",
       "      <td>1</td>\n",
       "      <td>19-03-2020</td>\n",
       "      <td>17-03-2020</td>\n",
       "      <td>9999-99-99</td>\n",
       "      <td>97</td>\n",
       "      <td>2</td>\n",
       "      <td>24</td>\n",
       "      <td>97</td>\n",
       "      <td>...</td>\n",
       "      <td>2</td>\n",
       "      <td>2</td>\n",
       "      <td>2</td>\n",
       "      <td>2</td>\n",
       "      <td>2</td>\n",
       "      <td>2</td>\n",
       "      <td>2</td>\n",
       "      <td>99</td>\n",
       "      <td>1</td>\n",
       "      <td>97</td>\n",
       "    </tr>\n",
       "    <tr>\n",
       "      <th>2</th>\n",
       "      <td>167386</td>\n",
       "      <td>1</td>\n",
       "      <td>2</td>\n",
       "      <td>6/4/2020</td>\n",
       "      <td>1/4/2020</td>\n",
       "      <td>9999-99-99</td>\n",
       "      <td>2</td>\n",
       "      <td>2</td>\n",
       "      <td>54</td>\n",
       "      <td>2</td>\n",
       "      <td>...</td>\n",
       "      <td>2</td>\n",
       "      <td>2</td>\n",
       "      <td>2</td>\n",
       "      <td>2</td>\n",
       "      <td>1</td>\n",
       "      <td>2</td>\n",
       "      <td>2</td>\n",
       "      <td>99</td>\n",
       "      <td>1</td>\n",
       "      <td>2</td>\n",
       "    </tr>\n",
       "    <tr>\n",
       "      <th>3</th>\n",
       "      <td>0b5948</td>\n",
       "      <td>2</td>\n",
       "      <td>2</td>\n",
       "      <td>17-04-2020</td>\n",
       "      <td>10/4/2020</td>\n",
       "      <td>9999-99-99</td>\n",
       "      <td>2</td>\n",
       "      <td>1</td>\n",
       "      <td>30</td>\n",
       "      <td>97</td>\n",
       "      <td>...</td>\n",
       "      <td>2</td>\n",
       "      <td>2</td>\n",
       "      <td>2</td>\n",
       "      <td>2</td>\n",
       "      <td>2</td>\n",
       "      <td>2</td>\n",
       "      <td>2</td>\n",
       "      <td>99</td>\n",
       "      <td>1</td>\n",
       "      <td>2</td>\n",
       "    </tr>\n",
       "    <tr>\n",
       "      <th>4</th>\n",
       "      <td>0d01b5</td>\n",
       "      <td>1</td>\n",
       "      <td>2</td>\n",
       "      <td>13-04-2020</td>\n",
       "      <td>13-04-2020</td>\n",
       "      <td>22-04-2020</td>\n",
       "      <td>2</td>\n",
       "      <td>2</td>\n",
       "      <td>60</td>\n",
       "      <td>2</td>\n",
       "      <td>...</td>\n",
       "      <td>2</td>\n",
       "      <td>1</td>\n",
       "      <td>2</td>\n",
       "      <td>1</td>\n",
       "      <td>2</td>\n",
       "      <td>2</td>\n",
       "      <td>2</td>\n",
       "      <td>99</td>\n",
       "      <td>1</td>\n",
       "      <td>2</td>\n",
       "    </tr>\n",
       "  </tbody>\n",
       "</table>\n",
       "<p>5 rows × 23 columns</p>\n",
       "</div>"
      ],
      "text/plain": [
       "       id  sex  patient_type  entry_date date_symptoms   date_died  intubed  \\\n",
       "0  16169f    2             1    4/5/2020      2/5/2020  9999-99-99       97   \n",
       "1  1009bf    2             1  19-03-2020    17-03-2020  9999-99-99       97   \n",
       "2  167386    1             2    6/4/2020      1/4/2020  9999-99-99        2   \n",
       "3  0b5948    2             2  17-04-2020     10/4/2020  9999-99-99        2   \n",
       "4  0d01b5    1             2  13-04-2020    13-04-2020  22-04-2020        2   \n",
       "\n",
       "   pneumonia  age  pregnancy ...   inmsupr  hypertension  other_disease  \\\n",
       "0          2   27         97 ...         2             2              2   \n",
       "1          2   24         97 ...         2             2              2   \n",
       "2          2   54          2 ...         2             2              2   \n",
       "3          1   30         97 ...         2             2              2   \n",
       "4          2   60          2 ...         2             1              2   \n",
       "\n",
       "   cardiovascular  obesity  renal_chronic  tobacco  contact_other_covid  \\\n",
       "0               2        2              2        2                    2   \n",
       "1               2        2              2        2                   99   \n",
       "2               2        1              2        2                   99   \n",
       "3               2        2              2        2                   99   \n",
       "4               1        2              2        2                   99   \n",
       "\n",
       "   covid_res  icu  \n",
       "0          1   97  \n",
       "1          1   97  \n",
       "2          1    2  \n",
       "3          1    2  \n",
       "4          1    2  \n",
       "\n",
       "[5 rows x 23 columns]"
      ]
     },
     "execution_count": 2,
     "metadata": {},
     "output_type": "execute_result"
    }
   ],
   "source": [
    "df=pd.read_csv(r'C:\\Users\\Sony\\Desktop\\python\\covid19\\another dataset\\covid.csv')\n",
    "df.head()"
   ]
  },
  {
   "cell_type": "code",
   "execution_count": 3,
   "metadata": {},
   "outputs": [],
   "source": [
    "df=df.drop(['id','entry_date','date_symptoms','date_died'],axis=1)"
   ]
  },
  {
   "cell_type": "code",
   "execution_count": 4,
   "metadata": {},
   "outputs": [],
   "source": [
    "df.rename(columns={'covid_res':'Test_result'},inplace=True)"
   ]
  },
  {
   "cell_type": "code",
   "execution_count": 5,
   "metadata": {},
   "outputs": [
    {
     "data": {
      "text/plain": [
       "array([1, 2, 3], dtype=int64)"
      ]
     },
     "execution_count": 5,
     "metadata": {},
     "output_type": "execute_result"
    }
   ],
   "source": [
    "df['Test_result'].unique()"
   ]
  },
  {
   "cell_type": "code",
   "execution_count": 6,
   "metadata": {},
   "outputs": [],
   "source": [
    "#converting numerical features to proper categories\n",
    "df.sex.replace({1: 'Female', 2: 'Male'}, inplace=True)\n",
    "df.patient_type.replace({1: 'Outpatient', 2: 'Inpatient'}, inplace=True)\n",
    "df.intubed.replace({1: 'Yes', 2: 'No',97:'Not Specified', 98:'Not Specified',99:'Not Specified'}, inplace=True)\n",
    "df.pneumonia.replace({1: 'Yes', 2: 'No', 98:'Not Specified',99:'Not Specified', 97:'Not Specified'}, inplace=True)\n",
    "df.pregnancy.replace({1: 'Yes', 2: 'No', 99:'Not Specified',98:'Not Specified', 97:'Not Specified'}, inplace=True)\n",
    "df.diabetes.replace({1:'Yes', 2: 'No', 99:'Not Specified',98:'Not Specified', 97:'Not Specified'}, inplace=True)\n",
    "df.copd.replace({1:'Yes', 2: 'No', 99:'Not Specified',98:'Not Specified', 97:'Not Specified'}, inplace=True)\n",
    "df.asthma.replace({1:'Yes', 2: 'No', 99:'Not Specified',98:'Not Specified', 97:'Not Specified'}, inplace=True)\n",
    "df.inmsupr.replace({1:'Yes', 2: 'No', 99:'Not Specified',98:'Not Specified', 97:'Not Specified'}, inplace=True)\n",
    "df.hypertension.replace({1:'Yes', 2: 'No', 99:'Not Specified',98:'Not Specified', 97:'Not Specified'}, inplace=True)\n",
    "df.other_disease.replace({1:'Yes', 2: 'No', 99:'Not Specified',98:'Not Specified', 97:'Not Specified'}, inplace=True)\n",
    "df.cardiovascular.replace({1:'Yes', 2: 'No', 99:'Not Specified',98:'Not Specified', 97:'Not Specified'}, inplace=True)\n",
    "df.obesity.replace({1:'Yes', 2: 'No', 99:'Not Specified',98:'Not Specified', 97:'Not Specified'}, inplace=True)\n",
    "df.renal_chronic.replace({1:'Yes', 2: 'No', 99:'Not Specified',98:'Not Specified', 97:'Not Specified'}, inplace=True)\n",
    "df.tobacco.replace({1:'Yes', 2: 'No', 99:'Not Specified',98:'Not Specified', 97:'Not Specified'}, inplace=True)\n",
    "df.contact_other_covid.replace({1: 'Yes', 2: 'No', 97:'Not Specified',99:'Not Specified',98:'Not Specified'}, inplace=True)\n",
    "df.Test_result.replace({1: 'Positive', 2: 'Negative', 3:'Awaiting Results'}, inplace=True)\n",
    "df.icu.replace({1: 'Yes', 2: 'No', 97:'Not Specified',98:'Not Specified', 99:'Not Specified'}, inplace=True)\n"
   ]
  },
  {
   "cell_type": "code",
   "execution_count": 46,
   "metadata": {},
   "outputs": [
    {
     "data": {
      "text/plain": [
       "array(['Positive', 'Negative', 'Awaiting Results'], dtype=object)"
      ]
     },
     "execution_count": 46,
     "metadata": {},
     "output_type": "execute_result"
    }
   ],
   "source": [
    "df['Test_result'].unique()"
   ]
  },
  {
   "cell_type": "code",
   "execution_count": 7,
   "metadata": {},
   "outputs": [
    {
     "data": {
      "text/html": [
       "<div>\n",
       "<style scoped>\n",
       "    .dataframe tbody tr th:only-of-type {\n",
       "        vertical-align: middle;\n",
       "    }\n",
       "\n",
       "    .dataframe tbody tr th {\n",
       "        vertical-align: top;\n",
       "    }\n",
       "\n",
       "    .dataframe thead th {\n",
       "        text-align: right;\n",
       "    }\n",
       "</style>\n",
       "<table border=\"1\" class=\"dataframe\">\n",
       "  <thead>\n",
       "    <tr style=\"text-align: right;\">\n",
       "      <th></th>\n",
       "      <th>sex</th>\n",
       "      <th>patient_type</th>\n",
       "      <th>intubed</th>\n",
       "      <th>pneumonia</th>\n",
       "      <th>age</th>\n",
       "      <th>pregnancy</th>\n",
       "      <th>diabetes</th>\n",
       "      <th>copd</th>\n",
       "      <th>asthma</th>\n",
       "      <th>inmsupr</th>\n",
       "      <th>hypertension</th>\n",
       "      <th>other_disease</th>\n",
       "      <th>cardiovascular</th>\n",
       "      <th>obesity</th>\n",
       "      <th>renal_chronic</th>\n",
       "      <th>tobacco</th>\n",
       "      <th>contact_other_covid</th>\n",
       "      <th>Test_result</th>\n",
       "      <th>icu</th>\n",
       "    </tr>\n",
       "  </thead>\n",
       "  <tbody>\n",
       "    <tr>\n",
       "      <th>0</th>\n",
       "      <td>Male</td>\n",
       "      <td>Outpatient</td>\n",
       "      <td>Not Specified</td>\n",
       "      <td>No</td>\n",
       "      <td>27</td>\n",
       "      <td>Not Specified</td>\n",
       "      <td>No</td>\n",
       "      <td>No</td>\n",
       "      <td>No</td>\n",
       "      <td>No</td>\n",
       "      <td>No</td>\n",
       "      <td>No</td>\n",
       "      <td>No</td>\n",
       "      <td>No</td>\n",
       "      <td>No</td>\n",
       "      <td>No</td>\n",
       "      <td>No</td>\n",
       "      <td>Positive</td>\n",
       "      <td>Not Specified</td>\n",
       "    </tr>\n",
       "    <tr>\n",
       "      <th>1</th>\n",
       "      <td>Male</td>\n",
       "      <td>Outpatient</td>\n",
       "      <td>Not Specified</td>\n",
       "      <td>No</td>\n",
       "      <td>24</td>\n",
       "      <td>Not Specified</td>\n",
       "      <td>No</td>\n",
       "      <td>No</td>\n",
       "      <td>No</td>\n",
       "      <td>No</td>\n",
       "      <td>No</td>\n",
       "      <td>No</td>\n",
       "      <td>No</td>\n",
       "      <td>No</td>\n",
       "      <td>No</td>\n",
       "      <td>No</td>\n",
       "      <td>Not Specified</td>\n",
       "      <td>Positive</td>\n",
       "      <td>Not Specified</td>\n",
       "    </tr>\n",
       "    <tr>\n",
       "      <th>2</th>\n",
       "      <td>Female</td>\n",
       "      <td>Inpatient</td>\n",
       "      <td>No</td>\n",
       "      <td>No</td>\n",
       "      <td>54</td>\n",
       "      <td>No</td>\n",
       "      <td>No</td>\n",
       "      <td>No</td>\n",
       "      <td>No</td>\n",
       "      <td>No</td>\n",
       "      <td>No</td>\n",
       "      <td>No</td>\n",
       "      <td>No</td>\n",
       "      <td>Yes</td>\n",
       "      <td>No</td>\n",
       "      <td>No</td>\n",
       "      <td>Not Specified</td>\n",
       "      <td>Positive</td>\n",
       "      <td>No</td>\n",
       "    </tr>\n",
       "    <tr>\n",
       "      <th>3</th>\n",
       "      <td>Male</td>\n",
       "      <td>Inpatient</td>\n",
       "      <td>No</td>\n",
       "      <td>Yes</td>\n",
       "      <td>30</td>\n",
       "      <td>Not Specified</td>\n",
       "      <td>No</td>\n",
       "      <td>No</td>\n",
       "      <td>No</td>\n",
       "      <td>No</td>\n",
       "      <td>No</td>\n",
       "      <td>No</td>\n",
       "      <td>No</td>\n",
       "      <td>No</td>\n",
       "      <td>No</td>\n",
       "      <td>No</td>\n",
       "      <td>Not Specified</td>\n",
       "      <td>Positive</td>\n",
       "      <td>No</td>\n",
       "    </tr>\n",
       "    <tr>\n",
       "      <th>4</th>\n",
       "      <td>Female</td>\n",
       "      <td>Inpatient</td>\n",
       "      <td>No</td>\n",
       "      <td>No</td>\n",
       "      <td>60</td>\n",
       "      <td>No</td>\n",
       "      <td>Yes</td>\n",
       "      <td>No</td>\n",
       "      <td>No</td>\n",
       "      <td>No</td>\n",
       "      <td>Yes</td>\n",
       "      <td>No</td>\n",
       "      <td>Yes</td>\n",
       "      <td>No</td>\n",
       "      <td>No</td>\n",
       "      <td>No</td>\n",
       "      <td>Not Specified</td>\n",
       "      <td>Positive</td>\n",
       "      <td>No</td>\n",
       "    </tr>\n",
       "  </tbody>\n",
       "</table>\n",
       "</div>"
      ],
      "text/plain": [
       "      sex patient_type        intubed pneumonia  age      pregnancy diabetes  \\\n",
       "0    Male   Outpatient  Not Specified        No   27  Not Specified       No   \n",
       "1    Male   Outpatient  Not Specified        No   24  Not Specified       No   \n",
       "2  Female    Inpatient             No        No   54             No       No   \n",
       "3    Male    Inpatient             No       Yes   30  Not Specified       No   \n",
       "4  Female    Inpatient             No        No   60             No      Yes   \n",
       "\n",
       "  copd asthma inmsupr hypertension other_disease cardiovascular obesity  \\\n",
       "0   No     No      No           No            No             No      No   \n",
       "1   No     No      No           No            No             No      No   \n",
       "2   No     No      No           No            No             No     Yes   \n",
       "3   No     No      No           No            No             No      No   \n",
       "4   No     No      No          Yes            No            Yes      No   \n",
       "\n",
       "  renal_chronic tobacco contact_other_covid Test_result            icu  \n",
       "0            No      No                  No    Positive  Not Specified  \n",
       "1            No      No       Not Specified    Positive  Not Specified  \n",
       "2            No      No       Not Specified    Positive             No  \n",
       "3            No      No       Not Specified    Positive             No  \n",
       "4            No      No       Not Specified    Positive             No  "
      ]
     },
     "execution_count": 7,
     "metadata": {},
     "output_type": "execute_result"
    }
   ],
   "source": [
    "# Get names of indexes for which column Stock has value No\n",
    "indexNames = df[ df['Test_result'] == 'Awaiting Results' ].index\n",
    "# Delete these row indexes from dataFrame\n",
    "df.drop(indexNames , inplace=True)\n",
    "df.head()"
   ]
  },
  {
   "cell_type": "code",
   "execution_count": 49,
   "metadata": {},
   "outputs": [
    {
     "data": {
      "text/plain": [
       "array(['Positive', 'Negative'], dtype=object)"
      ]
     },
     "execution_count": 49,
     "metadata": {},
     "output_type": "execute_result"
    }
   ],
   "source": [
    "df['Test_result'].unique()"
   ]
  },
  {
   "cell_type": "markdown",
   "metadata": {},
   "source": [
    "# Find Categorical Features and Numerical Features"
   ]
  },
  {
   "cell_type": "code",
   "execution_count": 8,
   "metadata": {},
   "outputs": [
    {
     "name": "stdout",
     "output_type": "stream",
     "text": [
      "Categorical Features: ['sex', 'patient_type', 'intubed', 'pneumonia', 'pregnancy', 'diabetes', 'copd', 'asthma', 'inmsupr', 'hypertension', 'other_disease', 'cardiovascular', 'obesity', 'renal_chronic', 'tobacco', 'contact_other_covid', 'Test_result', 'icu']\n",
      "Numerical Features: ['age']\n"
     ]
    }
   ],
   "source": [
    "cat_features=df.select_dtypes(include='object').columns.tolist()\n",
    "print(\"Categorical Features:\",cat_features)\n",
    "num_features=df.select_dtypes(exclude='object').columns.tolist()\n",
    "print(\"Numerical Features:\",num_features)"
   ]
  },
  {
   "cell_type": "code",
   "execution_count": 9,
   "metadata": {},
   "outputs": [
    {
     "data": {
      "text/plain": [
       "sex                    0\n",
       "patient_type           0\n",
       "intubed                0\n",
       "pneumonia              0\n",
       "age                    0\n",
       "pregnancy              0\n",
       "diabetes               0\n",
       "copd                   0\n",
       "asthma                 0\n",
       "inmsupr                0\n",
       "hypertension           0\n",
       "other_disease          0\n",
       "cardiovascular         0\n",
       "obesity                0\n",
       "renal_chronic          0\n",
       "tobacco                0\n",
       "contact_other_covid    0\n",
       "Test_result            0\n",
       "icu                    0\n",
       "dtype: int64"
      ]
     },
     "execution_count": 9,
     "metadata": {},
     "output_type": "execute_result"
    }
   ],
   "source": [
    "\n",
    "#No null values to handle\n",
    "df.isna().sum() \n",
    "df.isnull().sum()"
   ]
  },
  {
   "cell_type": "markdown",
   "metadata": {},
   "source": [
    "# Label Encoding"
   ]
  },
  {
   "cell_type": "code",
   "execution_count": 10,
   "metadata": {},
   "outputs": [],
   "source": [
    "from sklearn.preprocessing import StandardScaler,LabelEncoder\n",
    "cat_features=df.select_dtypes(include='object').columns.tolist()\n",
    "le=LabelEncoder()\n",
    "for col in cat_features:\n",
    "    df[col]=le.fit_transform(df[col])\n",
    "    "
   ]
  },
  {
   "cell_type": "markdown",
   "metadata": {},
   "source": [
    "# Splitting data in X and Y"
   ]
  },
  {
   "cell_type": "code",
   "execution_count": 11,
   "metadata": {},
   "outputs": [],
   "source": [
    "from sklearn.model_selection import train_test_split\n",
    "x = df.drop('Test_result', axis = 1)\n",
    "y = df.Test_result\n",
    "from sklearn.preprocessing import RobustScaler\n",
    "x= RobustScaler().fit_transform(x)\n",
    "x_train, x_test, y_train, y_test = train_test_split(x, y, test_size= 0.3)"
   ]
  },
  {
   "cell_type": "markdown",
   "metadata": {},
   "source": [
    "# CLASSIFICATION"
   ]
  },
  {
   "cell_type": "markdown",
   "metadata": {},
   "source": [
    "# Logistic regression without CV"
   ]
  },
  {
   "cell_type": "code",
   "execution_count": 28,
   "metadata": {},
   "outputs": [
    {
     "name": "stdout",
     "output_type": "stream",
     "text": [
      "log_accuracy 0.6198001440883742\n",
      "log_precision 0.6427699136658561\n",
      "log_recall 0.7215798006771256\n",
      "log_f1_score 0.6798986818531562\n",
      "[[60529 23355]\n",
      " [33640 32384]]\n",
      "             precision    recall  f1-score   support\n",
      "\n",
      "          0       0.64      0.72      0.68     83884\n",
      "          1       0.58      0.49      0.53     66024\n",
      "\n",
      "avg / total       0.62      0.62      0.61    149908\n",
      "\n"
     ]
    }
   ],
   "source": [
    "from sklearn.linear_model import LogisticRegression\n",
    "log = LogisticRegression(class_weight='balanced')\n",
    "log.fit(x_train, y_train)\n",
    "log_pred = log.predict(x_test)\n",
    "log_accuracy = metrics.accuracy_score(y_test, log_pred)\n",
    "print(\"log_accuracy\",log_accuracy)\n",
    "\n",
    "log_precision=metrics.precision_score(y_test, log_pred,pos_label=0)\n",
    "print(\"log_precision\",log_precision)\n",
    "\n",
    "log_recall=metrics.recall_score(y_test, log_pred,pos_label=0)\n",
    "print(\"log_recall\",log_recall)\n",
    "\n",
    "log_f1_score= metrics.f1_score(y_test, log_pred,pos_label=0)\n",
    "print(\"log_f1_score\",log_f1_score)\n",
    "\n",
    "print(confusion_matrix(y_test,log_pred))\n",
    "print(classification_report(y_test,log_pred))"
   ]
  },
  {
   "cell_type": "markdown",
   "metadata": {},
   "source": [
    "# Logistic regression with CV"
   ]
  },
  {
   "cell_type": "code",
   "execution_count": 29,
   "metadata": {},
   "outputs": [
    {
     "name": "stdout",
     "output_type": "stream",
     "text": [
      "log_cv_accuracy 0.619969910050355\n",
      "log_cv_precision 0.6123884330573607\n",
      "log_cv_recall 0.6061262551909335\n",
      "log_cv_f1_score 0.60583146561793\n"
     ]
    }
   ],
   "source": [
    "log_cross_val = cross_val_score(log, x, y, cv=10, scoring='accuracy')\n",
    "log_cv_accuracy = log_cross_val.mean()\n",
    "print(\"log_cv_accuracy\",log_cv_accuracy)\n",
    "\n",
    "log_cross_val_pre = cross_val_score(log, x, y, cv=10, scoring='precision_macro')\n",
    "log_cv_precision = log_cross_val_pre.mean()\n",
    "print(\"log_cv_precision\",log_cv_precision)\n",
    "\n",
    "log_cross_val_re = cross_val_score(log, x, y, cv=10, scoring='recall_macro')\n",
    "log_cv_recall = log_cross_val_re.mean()\n",
    "print(\"log_cv_recall\",log_cv_recall)\n",
    "\n",
    "log_cross_val_f1 = cross_val_score(log, x, y, cv=10, scoring='f1_macro')\n",
    "log_cv_f1_score = log_cross_val_f1.mean()\n",
    "print(\"log_cv_f1_score\",log_cv_f1_score)"
   ]
  },
  {
   "cell_type": "code",
   "execution_count": 15,
   "metadata": {},
   "outputs": [],
   "source": [
    "from sklearn.model_selection import train_test_split\n",
    "from sklearn.metrics import accuracy_score\n",
    "from sklearn.metrics import confusion_matrix,classification_report\n",
    "from sklearn.neighbors import KNeighborsClassifier\n",
    "from sklearn.linear_model import LogisticRegression\n",
    "from sklearn import preprocessing\n",
    "from sklearn.metrics import classification_report,accuracy_score,confusion_matrix\n",
    "from sklearn import metrics\n"
   ]
  },
  {
   "cell_type": "code",
   "execution_count": 16,
   "metadata": {},
   "outputs": [
    {
     "name": "stdout",
     "output_type": "stream",
     "text": [
      "dtree_accuracy 0.6162779838300825\n",
      "dtree_precision 0.6379333800768128\n",
      "dtree_recall 0.7267059272328453\n",
      "dtree_f1_score 0.6794322367797772\n",
      "[[60959 22925]\n",
      " [34598 31426]]\n",
      "             precision    recall  f1-score   support\n",
      "\n",
      "          0       0.64      0.73      0.68     83884\n",
      "          1       0.58      0.48      0.52     66024\n",
      "\n",
      "avg / total       0.61      0.62      0.61    149908\n",
      "\n"
     ]
    }
   ],
   "source": [
    "from sklearn import metrics\n",
    "from sklearn import tree\n",
    "\n",
    "dtree = tree.DecisionTreeClassifier(class_weight='balanced')\n",
    "dtree = dtree.fit(x_train, y_train)\n",
    "\n",
    "dtree_pred = dtree.predict(x_test)\n",
    "\n",
    "dtree_accuracy = metrics.accuracy_score(y_test, dtree_pred)\n",
    "print(\"dtree_accuracy\",dtree_accuracy)\n",
    "\n",
    "dtree_precision=metrics.precision_score(y_test, dtree_pred,pos_label=0)\n",
    "print(\"dtree_precision\",dtree_precision)\n",
    "\n",
    "dtree_recall=metrics.recall_score(y_test, dtree_pred,pos_label=0)\n",
    "print(\"dtree_recall\",dtree_recall)\n",
    "\n",
    "dtree_f1_score= metrics.f1_score(y_test, dtree_pred,pos_label=0)\n",
    "print(\"dtree_f1_score\",dtree_f1_score)\n",
    "\n",
    "print(confusion_matrix(y_test,dtree_pred))\n",
    "print(classification_report(y_test,dtree_pred))"
   ]
  },
  {
   "cell_type": "code",
   "execution_count": 17,
   "metadata": {},
   "outputs": [
    {
     "name": "stdout",
     "output_type": "stream",
     "text": [
      "dtree_cv_accuracy 0.6168079537189033\n",
      "dtree_cv_precision 0.6092311370390523\n",
      "dtree_cv_recall 0.601929606710069\n",
      "dtree_cv_f1_score 0.6011316461859828\n"
     ]
    }
   ],
   "source": [
    "from sklearn.model_selection import cross_val_score\n",
    "\n",
    "dtree_cross_val_acc = cross_val_score(dtree, x, y, cv=10, scoring='accuracy')\n",
    "\n",
    "dtree_cv_accuracy = dtree_cross_val_acc.mean()\n",
    "print(\"dtree_cv_accuracy\",dtree_cv_accuracy)\n",
    "\n",
    "dtree_cross_val_pre = cross_val_score(dtree, x, y, cv=10, scoring='precision_macro')\n",
    "dtree_cv_precision = dtree_cross_val_pre.mean()\n",
    "print(\"dtree_cv_precision\",dtree_cv_precision)\n",
    "\n",
    "dtree_cross_val_re = cross_val_score(dtree, x, y, cv=10, scoring='recall_macro')\n",
    "dtree_cv_recall = dtree_cross_val_re.mean()\n",
    "print(\"dtree_cv_recall\",dtree_cv_recall)\n",
    "\n",
    "dtree_cross_val_f1 = cross_val_score(dtree, x, y, cv=10, scoring='f1_macro')\n",
    "dtree_cv_f1_score = dtree_cross_val_f1.mean()\n",
    "print(\"dtree_cv_f1_score\",dtree_cv_f1_score)"
   ]
  },
  {
   "cell_type": "markdown",
   "metadata": {},
   "source": [
    "# Random Forest"
   ]
  },
  {
   "cell_type": "code",
   "execution_count": 25,
   "metadata": {},
   "outputs": [
    {
     "name": "stdout",
     "output_type": "stream",
     "text": [
      "rnd_for_accuracy 0.6178989780398645\n",
      "rnd_for_precision 0.6361849379581473\n",
      "rnd_for_recall 0.7407848934242526\n",
      "rnd_for_f1_score 0.684512007050011\n",
      "[[62140 21744]\n",
      " [35536 30488]]\n",
      "             precision    recall  f1-score   support\n",
      "\n",
      "          0       0.64      0.74      0.68     83884\n",
      "          1       0.58      0.46      0.52     66024\n",
      "\n",
      "avg / total       0.61      0.62      0.61    149908\n",
      "\n"
     ]
    }
   ],
   "source": [
    "from sklearn.ensemble import RandomForestClassifier\n",
    "rnd_for = RandomForestClassifier(class_weight='balanced')\n",
    "rnd_for.fit(x_train, y_train)\n",
    "rnd_for_pred = rnd_for.predict(x_test)\n",
    "rnd_for_accuracy = metrics.accuracy_score(y_test, rnd_for_pred)\n",
    "print(\"rnd_for_accuracy\",rnd_for_accuracy)\n",
    "\n",
    "rnd_for_precision=metrics.precision_score(y_test, rnd_for_pred,pos_label=0)\n",
    "print(\"rnd_for_precision\",rnd_for_precision)\n",
    "\n",
    "rnd_for_recall=metrics.recall_score(y_test, rnd_for_pred,pos_label=0)\n",
    "print(\"rnd_for_recall\",rnd_for_recall)\n",
    "\n",
    "rnd_for_f1_score= metrics.f1_score(y_test, rnd_for_pred,pos_label=0)\n",
    "print(\"rnd_for_f1_score\",rnd_for_f1_score)\n",
    "\n",
    "print(confusion_matrix(y_test,rnd_for_pred))\n",
    "print(classification_report(y_test,rnd_for_pred))"
   ]
  },
  {
   "cell_type": "markdown",
   "metadata": {},
   "source": [
    "# Random Forest with CV"
   ]
  },
  {
   "cell_type": "code",
   "execution_count": 26,
   "metadata": {},
   "outputs": [
    {
     "name": "stdout",
     "output_type": "stream",
     "text": [
      "rnd_for_cv_accuracy 0.6180447170303747\n",
      "rnd_for_cv_precision 0.610446508631751\n",
      "rnd_for_cv_recall 0.6018465028192616\n",
      "rnd_for_cv_f1_score 0.601048303719441\n"
     ]
    }
   ],
   "source": [
    "rnd_for_cross_val = cross_val_score(rnd_for, x, y, cv=10, scoring='accuracy')\n",
    "rnd_for_cv_accuracy = rnd_for_cross_val.mean()\n",
    "print(\"rnd_for_cv_accuracy\",rnd_for_cv_accuracy)\n",
    "\n",
    "rnd_for_cross_val_pre = cross_val_score(rnd_for, x, y, cv=10, scoring='precision_macro')\n",
    "rnd_for_cv_precision = rnd_for_cross_val_pre.mean()\n",
    "print(\"rnd_for_cv_precision\",rnd_for_cv_precision)\n",
    "\n",
    "rnd_for_cross_val_re = cross_val_score(rnd_for, x, y, cv=10, scoring='recall_macro')\n",
    "rnd_for_cv_recall = rnd_for_cross_val_re.mean()\n",
    "print(\"rnd_for_cv_recall\",rnd_for_cv_recall)\n",
    "\n",
    "rnd_for_cross_val_f1 = cross_val_score(rnd_for, x, y, cv=10, scoring='f1_macro')\n",
    "rnd_for_cv_f1_score = rnd_for_cross_val_f1.mean()\n",
    "print(\"rnd_for_cv_f1_score\",rnd_for_cv_f1_score)"
   ]
  },
  {
   "cell_type": "markdown",
   "metadata": {},
   "source": [
    "# Adaboost without CV"
   ]
  },
  {
   "cell_type": "code",
   "execution_count": 31,
   "metadata": {},
   "outputs": [
    {
     "name": "stdout",
     "output_type": "stream",
     "text": [
      "0.638278143928276\n",
      "ada_precision 0.6327012733666812\n",
      "ada_recall 0.8428901816794622\n",
      "ada_f1_score 0.7228256702532777\n",
      "[[70705 13179]\n",
      " [41046 24978]]\n",
      "             precision    recall  f1-score   support\n",
      "\n",
      "          0       0.63      0.84      0.72     83884\n",
      "          1       0.65      0.38      0.48     66024\n",
      "\n",
      "avg / total       0.64      0.64      0.62    149908\n",
      "\n"
     ]
    }
   ],
   "source": [
    "from sklearn.ensemble import AdaBoostClassifier\n",
    "from sklearn.tree import DecisionTreeClassifier\n",
    "from sklearn import metrics\n",
    "\n",
    "\n",
    "Ada_model=AdaBoostClassifier(DecisionTreeClassifier(max_depth=1),n_estimators=500,learning_rate=0.1)\n",
    "Ada_model.fit(x_train,y_train)\n",
    "ada_pred=Ada_model.predict(x_test)\n",
    "ada_accuracy = metrics.accuracy_score(y_test, ada_pred)\n",
    "print(ada_accuracy)\n",
    "\n",
    "ada_precision=metrics.precision_score(y_test, ada_pred,pos_label=0)\n",
    "print(\"ada_precision\",ada_precision)\n",
    "\n",
    "ada_recall=metrics.recall_score(y_test, ada_pred,pos_label=0)\n",
    "print(\"ada_recall\",ada_recall)\n",
    "\n",
    "ada_f1_score= metrics.f1_score(y_test, ada_pred,pos_label=0)\n",
    "print(\"ada_f1_score\",ada_f1_score)\n",
    "\n",
    "print(confusion_matrix(y_test,ada_pred))\n",
    "print(classification_report(y_test,ada_pred))"
   ]
  },
  {
   "cell_type": "markdown",
   "metadata": {},
   "source": [
    "# Adaboost with CV"
   ]
  },
  {
   "cell_type": "code",
   "execution_count": 32,
   "metadata": {},
   "outputs": [
    {
     "name": "stdout",
     "output_type": "stream",
     "text": [
      "0.619969910050355\n",
      "ada_cv_precision 0.6441011377031093\n",
      "ada_cv_recall 0.6099584968514766\n",
      "ada_cv_f1_score 0.5997822347540784\n"
     ]
    }
   ],
   "source": [
    "ada_cross_val = cross_val_score(Ada_model, x, y, cv=10, scoring='accuracy')\n",
    "ada_cv_accuracy = log_cross_val.mean()\n",
    "print(ada_cv_accuracy)\n",
    "\n",
    "ada_cross_val_pre = cross_val_score(Ada_model, x, y, cv=10, scoring='precision_macro')\n",
    "ada_cv_precision = ada_cross_val_pre.mean()\n",
    "print(\"ada_cv_precision\",ada_cv_precision)\n",
    "\n",
    "ada_cross_val_re = cross_val_score(Ada_model, x, y, cv=10, scoring='recall_macro')\n",
    "ada_cv_recall = ada_cross_val_re.mean()\n",
    "print(\"ada_cv_recall\",ada_cv_recall)\n",
    "\n",
    "ada_cross_val_f1 = cross_val_score(Ada_model, x, y, cv=10, scoring='f1_macro')\n",
    "ada_cv_f1_score = ada_cross_val_f1.mean()\n",
    "print(\"ada_cv_f1_score\",ada_cv_f1_score)\n"
   ]
  },
  {
   "cell_type": "markdown",
   "metadata": {},
   "source": [
    "# Gradient Boosting Classifier"
   ]
  },
  {
   "cell_type": "code",
   "execution_count": 18,
   "metadata": {},
   "outputs": [
    {
     "name": "stdout",
     "output_type": "stream",
     "text": [
      "Grad_boost_accuracy 0.6409531179123196\n",
      "Grad_boost_precision 0.6351667326162812\n",
      "Grad_boost_recall 0.8419722473892518\n",
      "Grad_boost_f1_score 0.7240926799261842\n",
      "[[70628 13256]\n",
      " [40568 25456]]\n",
      "             precision    recall  f1-score   support\n",
      "\n",
      "          0       0.64      0.84      0.72     83884\n",
      "          1       0.66      0.39      0.49     66024\n",
      "\n",
      "avg / total       0.65      0.64      0.62    149908\n",
      "\n"
     ]
    }
   ],
   "source": [
    "from sklearn.ensemble import GradientBoostingClassifier\n",
    "\n",
    "Grad_boost = GradientBoostingClassifier()\n",
    "Grad_boost.fit(x_train, y_train)\n",
    "Grad_boost_pred = Grad_boost.predict(x_test)\n",
    "Grad_boost_accuracy = metrics.accuracy_score(y_test, Grad_boost_pred)\n",
    "print(\"Grad_boost_accuracy\",Grad_boost_accuracy)\n",
    "\n",
    "Grad_boost_precision=metrics.precision_score(y_test, Grad_boost_pred,pos_label=0)\n",
    "print(\"Grad_boost_precision\",Grad_boost_precision)\n",
    "\n",
    "Grad_boost_recall=metrics.recall_score(y_test, Grad_boost_pred,pos_label=0)\n",
    "print(\"Grad_boost_recall\",Grad_boost_recall)\n",
    "\n",
    "Grad_boost_f1_score= metrics.f1_score(y_test, Grad_boost_pred,pos_label=0)\n",
    "print(\"Grad_boost_f1_score\",Grad_boost_f1_score)\n",
    "\n",
    "print(confusion_matrix(y_test,Grad_boost_pred))\n",
    "print(classification_report(y_test,Grad_boost_pred))"
   ]
  },
  {
   "cell_type": "markdown",
   "metadata": {},
   "source": [
    "# Gradient Boosting Classifier with Cross Validation"
   ]
  },
  {
   "cell_type": "code",
   "execution_count": 19,
   "metadata": {},
   "outputs": [
    {
     "name": "stdout",
     "output_type": "stream",
     "text": [
      "0.6399762318052351\n",
      "0.6467705007359406\n",
      "0.6128142671574783\n",
      "0.603300823261115\n"
     ]
    }
   ],
   "source": [
    "Grad_boost_cross_val = cross_val_score(Grad_boost, x, y, cv=10, scoring='accuracy')\n",
    "Grad_boost_cv_accuracy = Grad_boost_cross_val.mean()\n",
    "print(Grad_boost_cv_accuracy)\n",
    "\n",
    "Grad_boost_cross_val_pre = cross_val_score(Grad_boost, x, y, cv=10, scoring='precision_macro')\n",
    "Grad_boost_cv_precision = Grad_boost_cross_val_pre.mean()\n",
    "print(Grad_boost_cv_precision)\n",
    "\n",
    "Grad_boost_cross_val_re = cross_val_score(Grad_boost, x, y, cv=10, scoring='recall_macro')\n",
    "Grad_boost_cv_recall = Grad_boost_cross_val_re.mean()\n",
    "print(Grad_boost_cv_recall)\n",
    "\n",
    "Grad_boost_cross_val_f1 = cross_val_score(Grad_boost, x, y, cv=10, scoring='f1_macro')\n",
    "Grad_boost_cv_f1_score = Grad_boost_cross_val_f1.mean()\n",
    "print(Grad_boost_cv_f1_score)"
   ]
  },
  {
   "cell_type": "markdown",
   "metadata": {},
   "source": [
    "# Multilayer Perceptron"
   ]
  },
  {
   "cell_type": "code",
   "execution_count": 21,
   "metadata": {},
   "outputs": [
    {
     "name": "stdout",
     "output_type": "stream",
     "text": [
      "MLP_accuracy 0.6411265576220082\n",
      "MLP_precision 0.6351669482083169\n",
      "MLP_recall 0.8426994420866911\n",
      "MLP_f1_score 0.7243616018362914\n",
      "[[70689 13195]\n",
      " [40603 25421]]\n",
      "             precision    recall  f1-score   support\n",
      "\n",
      "          0       0.64      0.84      0.72     83884\n",
      "          1       0.66      0.39      0.49     66024\n",
      "\n",
      "avg / total       0.65      0.64      0.62    149908\n",
      "\n"
     ]
    }
   ],
   "source": [
    "from sklearn.neural_network import MLPClassifier\n",
    "MLP = MLPClassifier(max_iter=200,activation='logistic')\n",
    "MLP.fit(x_train, y_train)\n",
    "MLP_pred = MLP.predict(x_test)\n",
    "MLP_accuracy = metrics.accuracy_score(y_test, MLP_pred)\n",
    "print(\"MLP_accuracy\",MLP_accuracy)\n",
    "\n",
    "MLP_precision=metrics.precision_score(y_test, MLP_pred,pos_label=0)\n",
    "print(\"MLP_precision\",MLP_precision)\n",
    "\n",
    "MLP_recall=metrics.recall_score(y_test, MLP_pred,pos_label=0)\n",
    "print(\"MLP_recall\",MLP_recall)\n",
    "\n",
    "MLP_f1_score= metrics.f1_score(y_test, MLP_pred,pos_label=0)\n",
    "print(\"MLP_f1_score\",MLP_f1_score)\n",
    "\n",
    "print(confusion_matrix(y_test,MLP_pred))\n",
    "print(classification_report(y_test,MLP_pred))"
   ]
  },
  {
   "cell_type": "markdown",
   "metadata": {},
   "source": [
    "# Multilayer Perceptron with Cross Validation"
   ]
  },
  {
   "cell_type": "code",
   "execution_count": 22,
   "metadata": {},
   "outputs": [
    {
     "name": "stdout",
     "output_type": "stream",
     "text": [
      "MLP_cv_accuracy 0.639712071908395\n",
      "MLP_cv_precision 0.6461451129944953\n",
      "MLP_cv_recall 0.6153165229291576\n",
      "MLP_cv_f1_score 0.6056863019545992\n"
     ]
    }
   ],
   "source": [
    "MLP_cross_val = cross_val_score(MLP, x, y, cv=10, scoring='accuracy')\n",
    "MLP_cv_accuracy = MLP_cross_val.mean()\n",
    "print(\"MLP_cv_accuracy\",MLP_cv_accuracy)\n",
    "\n",
    "MLP_cross_val_pre = cross_val_score(MLP, x, y, cv=10, scoring='precision_macro')\n",
    "MLP_cv_precision = MLP_cross_val_pre.mean()\n",
    "print(\"MLP_cv_precision\",MLP_cv_precision)\n",
    "\n",
    "MLP_cross_val_re = cross_val_score(MLP, x, y, cv=10, scoring='recall_macro')\n",
    "MLP_cv_recall = MLP_cross_val_re.mean()\n",
    "print(\"MLP_cv_recall\",MLP_cv_recall)\n",
    "\n",
    "MLP_cross_val_f1 = cross_val_score(MLP, x, y, cv=10, scoring='f1_macro')\n",
    "MLP_cv_f1_score = MLP_cross_val_f1.mean()\n",
    "print(\"MLP_cv_f1_score\",MLP_cv_f1_score)"
   ]
  },
  {
   "cell_type": "markdown",
   "metadata": {},
   "source": [
    "# Accuracy comparision"
   ]
  },
  {
   "cell_type": "code",
   "execution_count": 35,
   "metadata": {},
   "outputs": [],
   "source": [
    "no_cv_acc = [dtree_accuracy, rnd_for_accuracy, log_accuracy,ada_accuracy,Grad_boost_accuracy,MLP_accuracy]\n",
    "with_cv_acc = [dtree_cv_accuracy, rnd_for_cv_accuracy, log_cv_accuracy,ada_cv_accuracy,Grad_boost_cv_accuracy,MLP_cv_accuracy]\n",
    "\n",
    "no_cv_pre = [dtree_precision,rnd_for_precision, log_precision,ada_precision,Grad_boost_precision,MLP_precision]\n",
    "with_cv_pre = [dtree_cv_precision, rnd_for_cv_precision, log_cv_precision,ada_cv_precision,Grad_boost_cv_precision,MLP_cv_precision]\n",
    "\n",
    "no_cv_re = [dtree_recall, rnd_for_recall, log_recall,ada_recall,Grad_boost_recall,MLP_recall]\n",
    "with_cv_re = [dtree_cv_recall, rnd_for_cv_recall, log_cv_recall,ada_cv_recall,Grad_boost_cv_recall,MLP_cv_recall]\n",
    "\n",
    "no_cv_f1 = [dtree_f1_score, rnd_for_f1_score, log_f1_score,ada_f1_score,Grad_boost_f1_score,MLP_f1_score]\n",
    "with_cv_f1 = [dtree_cv_f1_score,rnd_for_cv_f1_score, log_cv_f1_score,ada_cv_f1_score,Grad_boost_cv_f1_score,MLP_cv_f1_score]"
   ]
  },
  {
   "cell_type": "code",
   "execution_count": 36,
   "metadata": {},
   "outputs": [],
   "source": [
    "accuracy = {'Without CV Acc': no_cv_acc,'With CV acc': with_cv_acc,'Without CV Pre': no_cv_pre,'With CV Pre': with_cv_pre,'Without CV Recall': no_cv_re,'With CV Recall': with_cv_re,'Without CV F1': no_cv_f1,'With CV F1': with_cv_f1}"
   ]
  },
  {
   "cell_type": "code",
   "execution_count": 38,
   "metadata": {},
   "outputs": [],
   "source": [
    "accuracy_chart = pd.DataFrame(accuracy, index = ['DTREE','RND_FOR', 'LOG_REG','ADABOOST','Gradient Boosting','Multilayer Perceptron'])"
   ]
  },
  {
   "cell_type": "code",
   "execution_count": 39,
   "metadata": {},
   "outputs": [
    {
     "name": "stdout",
     "output_type": "stream",
     "text": [
      "                       Without CV Acc  With CV acc  Without CV Pre  \\\n",
      "DTREE                        0.616278     0.616808        0.637933   \n",
      "RND_FOR                      0.617899     0.618045        0.636185   \n",
      "LOG_REG                      0.619800     0.619970        0.642770   \n",
      "ADABOOST                     0.638278     0.619970        0.632701   \n",
      "Gradient Boosting            0.640953     0.639976        0.635167   \n",
      "Multilayer Perceptron        0.641127     0.639712        0.635167   \n",
      "\n",
      "                       With CV Pre  Without CV Recall  With CV Recall  \\\n",
      "DTREE                     0.609231           0.726706        0.601930   \n",
      "RND_FOR                   0.610447           0.740785        0.601847   \n",
      "LOG_REG                   0.612388           0.721580        0.606126   \n",
      "ADABOOST                  0.644101           0.842890        0.609958   \n",
      "Gradient Boosting         0.646771           0.841972        0.612814   \n",
      "Multilayer Perceptron     0.646145           0.842699        0.615317   \n",
      "\n",
      "                       Without CV F1  With CV F1  \n",
      "DTREE                       0.679432    0.601132  \n",
      "RND_FOR                     0.684512    0.601048  \n",
      "LOG_REG                     0.679899    0.605831  \n",
      "ADABOOST                    0.722826    0.599782  \n",
      "Gradient Boosting           0.724093    0.603301  \n",
      "Multilayer Perceptron       0.724362    0.605686  \n"
     ]
    }
   ],
   "source": [
    "print(accuracy_chart)"
   ]
  },
  {
   "cell_type": "code",
   "execution_count": null,
   "metadata": {},
   "outputs": [],
   "source": []
  }
 ],
 "metadata": {
  "kernelspec": {
   "display_name": "Python 3",
   "language": "python",
   "name": "python3"
  }
 },
 "nbformat": 4,
 "nbformat_minor": 2
}
