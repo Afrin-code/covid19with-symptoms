{
 "cells": [
  {
   "cell_type": "code",
   "execution_count": 31,
   "metadata": {},
   "outputs": [],
   "source": [
    "import numpy as np\n",
    "import pandas as pd\n",
    "import seaborn as sns\n",
    "from sklearn.model_selection import train_test_split\n",
    "from sklearn.metrics import accuracy_score\n",
    "from sklearn.metrics import confusion_matrix,classification_report\n",
    "from sklearn.neighbors import KNeighborsClassifier\n",
    "from sklearn.linear_model import LogisticRegression\n",
    "from sklearn import preprocessing\n",
    "from sklearn.metrics import classification_report,accuracy_score,confusion_matrix\n",
    "from sklearn import metrics\n"
   ]
  },
  {
   "cell_type": "code",
   "execution_count": 32,
   "metadata": {},
   "outputs": [
    {
     "data": {
      "text/html": [
       "<div>\n",
       "<style scoped>\n",
       "    .dataframe tbody tr th:only-of-type {\n",
       "        vertical-align: middle;\n",
       "    }\n",
       "\n",
       "    .dataframe tbody tr th {\n",
       "        vertical-align: top;\n",
       "    }\n",
       "\n",
       "    .dataframe thead th {\n",
       "        text-align: right;\n",
       "    }\n",
       "</style>\n",
       "<table border=\"1\" class=\"dataframe\">\n",
       "  <thead>\n",
       "    <tr style=\"text-align: right;\">\n",
       "      <th></th>\n",
       "      <th>id</th>\n",
       "      <th>sex</th>\n",
       "      <th>patient_type</th>\n",
       "      <th>entry_date</th>\n",
       "      <th>date_symptoms</th>\n",
       "      <th>date_died</th>\n",
       "      <th>intubed</th>\n",
       "      <th>pneumonia</th>\n",
       "      <th>age</th>\n",
       "      <th>pregnancy</th>\n",
       "      <th>...</th>\n",
       "      <th>inmsupr</th>\n",
       "      <th>hypertension</th>\n",
       "      <th>other_disease</th>\n",
       "      <th>cardiovascular</th>\n",
       "      <th>obesity</th>\n",
       "      <th>renal_chronic</th>\n",
       "      <th>tobacco</th>\n",
       "      <th>contact_other_covid</th>\n",
       "      <th>covid_res</th>\n",
       "      <th>icu</th>\n",
       "    </tr>\n",
       "  </thead>\n",
       "  <tbody>\n",
       "    <tr>\n",
       "      <th>0</th>\n",
       "      <td>16169f</td>\n",
       "      <td>2</td>\n",
       "      <td>1</td>\n",
       "      <td>4/5/2020</td>\n",
       "      <td>2/5/2020</td>\n",
       "      <td>9999-99-99</td>\n",
       "      <td>97</td>\n",
       "      <td>2</td>\n",
       "      <td>27</td>\n",
       "      <td>97</td>\n",
       "      <td>...</td>\n",
       "      <td>2</td>\n",
       "      <td>2</td>\n",
       "      <td>2</td>\n",
       "      <td>2</td>\n",
       "      <td>2</td>\n",
       "      <td>2</td>\n",
       "      <td>2</td>\n",
       "      <td>2</td>\n",
       "      <td>1</td>\n",
       "      <td>97</td>\n",
       "    </tr>\n",
       "    <tr>\n",
       "      <th>1</th>\n",
       "      <td>1009bf</td>\n",
       "      <td>2</td>\n",
       "      <td>1</td>\n",
       "      <td>19-03-2020</td>\n",
       "      <td>17-03-2020</td>\n",
       "      <td>9999-99-99</td>\n",
       "      <td>97</td>\n",
       "      <td>2</td>\n",
       "      <td>24</td>\n",
       "      <td>97</td>\n",
       "      <td>...</td>\n",
       "      <td>2</td>\n",
       "      <td>2</td>\n",
       "      <td>2</td>\n",
       "      <td>2</td>\n",
       "      <td>2</td>\n",
       "      <td>2</td>\n",
       "      <td>2</td>\n",
       "      <td>99</td>\n",
       "      <td>1</td>\n",
       "      <td>97</td>\n",
       "    </tr>\n",
       "    <tr>\n",
       "      <th>2</th>\n",
       "      <td>167386</td>\n",
       "      <td>1</td>\n",
       "      <td>2</td>\n",
       "      <td>6/4/2020</td>\n",
       "      <td>1/4/2020</td>\n",
       "      <td>9999-99-99</td>\n",
       "      <td>2</td>\n",
       "      <td>2</td>\n",
       "      <td>54</td>\n",
       "      <td>2</td>\n",
       "      <td>...</td>\n",
       "      <td>2</td>\n",
       "      <td>2</td>\n",
       "      <td>2</td>\n",
       "      <td>2</td>\n",
       "      <td>1</td>\n",
       "      <td>2</td>\n",
       "      <td>2</td>\n",
       "      <td>99</td>\n",
       "      <td>1</td>\n",
       "      <td>2</td>\n",
       "    </tr>\n",
       "    <tr>\n",
       "      <th>3</th>\n",
       "      <td>0b5948</td>\n",
       "      <td>2</td>\n",
       "      <td>2</td>\n",
       "      <td>17-04-2020</td>\n",
       "      <td>10/4/2020</td>\n",
       "      <td>9999-99-99</td>\n",
       "      <td>2</td>\n",
       "      <td>1</td>\n",
       "      <td>30</td>\n",
       "      <td>97</td>\n",
       "      <td>...</td>\n",
       "      <td>2</td>\n",
       "      <td>2</td>\n",
       "      <td>2</td>\n",
       "      <td>2</td>\n",
       "      <td>2</td>\n",
       "      <td>2</td>\n",
       "      <td>2</td>\n",
       "      <td>99</td>\n",
       "      <td>1</td>\n",
       "      <td>2</td>\n",
       "    </tr>\n",
       "    <tr>\n",
       "      <th>4</th>\n",
       "      <td>0d01b5</td>\n",
       "      <td>1</td>\n",
       "      <td>2</td>\n",
       "      <td>13-04-2020</td>\n",
       "      <td>13-04-2020</td>\n",
       "      <td>22-04-2020</td>\n",
       "      <td>2</td>\n",
       "      <td>2</td>\n",
       "      <td>60</td>\n",
       "      <td>2</td>\n",
       "      <td>...</td>\n",
       "      <td>2</td>\n",
       "      <td>1</td>\n",
       "      <td>2</td>\n",
       "      <td>1</td>\n",
       "      <td>2</td>\n",
       "      <td>2</td>\n",
       "      <td>2</td>\n",
       "      <td>99</td>\n",
       "      <td>1</td>\n",
       "      <td>2</td>\n",
       "    </tr>\n",
       "  </tbody>\n",
       "</table>\n",
       "<p>5 rows × 23 columns</p>\n",
       "</div>"
      ],
      "text/plain": [
       "       id  sex  patient_type  entry_date date_symptoms   date_died  intubed  \\\n",
       "0  16169f    2             1    4/5/2020      2/5/2020  9999-99-99       97   \n",
       "1  1009bf    2             1  19-03-2020    17-03-2020  9999-99-99       97   \n",
       "2  167386    1             2    6/4/2020      1/4/2020  9999-99-99        2   \n",
       "3  0b5948    2             2  17-04-2020     10/4/2020  9999-99-99        2   \n",
       "4  0d01b5    1             2  13-04-2020    13-04-2020  22-04-2020        2   \n",
       "\n",
       "   pneumonia  age  pregnancy ...   inmsupr  hypertension  other_disease  \\\n",
       "0          2   27         97 ...         2             2              2   \n",
       "1          2   24         97 ...         2             2              2   \n",
       "2          2   54          2 ...         2             2              2   \n",
       "3          1   30         97 ...         2             2              2   \n",
       "4          2   60          2 ...         2             1              2   \n",
       "\n",
       "   cardiovascular  obesity  renal_chronic  tobacco  contact_other_covid  \\\n",
       "0               2        2              2        2                    2   \n",
       "1               2        2              2        2                   99   \n",
       "2               2        1              2        2                   99   \n",
       "3               2        2              2        2                   99   \n",
       "4               1        2              2        2                   99   \n",
       "\n",
       "   covid_res  icu  \n",
       "0          1   97  \n",
       "1          1   97  \n",
       "2          1    2  \n",
       "3          1    2  \n",
       "4          1    2  \n",
       "\n",
       "[5 rows x 23 columns]"
      ]
     },
     "execution_count": 32,
     "metadata": {},
     "output_type": "execute_result"
    }
   ],
   "source": [
    "df=pd.read_csv(r'C:\\Users\\Sony\\Desktop\\python\\covid19\\another dataset\\covid.csv')\n",
    "df.head()"
   ]
  },
  {
   "cell_type": "code",
   "execution_count": 33,
   "metadata": {},
   "outputs": [],
   "source": [
    "df=df.drop(['id','entry_date','date_symptoms','date_died'],axis=1)"
   ]
  },
  {
   "cell_type": "code",
   "execution_count": 34,
   "metadata": {},
   "outputs": [],
   "source": [
    "df.rename(columns={'covid_res':'Test_result'},inplace=True)"
   ]
  },
  {
   "cell_type": "code",
   "execution_count": 36,
   "metadata": {},
   "outputs": [],
   "source": [
    "df['sex']=df['sex'].replace({1:'Female',2:'Male'})\n",
    "df['patient_type']=df['patient_type'].replace({1:'Outpatient',2:'Inpatient'})\n",
    "df['Test_result']=df['Test_result'].replace({1:'Positive',2:'Negative',3:'Results Awaited'})\n",
    "\n",
    "df.iloc[:,6:]=df.iloc[:,6:].replace([97,98,99],np.nan)\n",
    "df.iloc[:,6:]=df.iloc[:,6:].replace(1,'Yes')\n",
    "df.iloc[:,6:]=df.iloc[:,6:].replace(2,'No')"
   ]
  },
  {
   "cell_type": "code",
   "execution_count": 37,
   "metadata": {},
   "outputs": [
    {
     "data": {
      "text/html": [
       "<div>\n",
       "<style scoped>\n",
       "    .dataframe tbody tr th:only-of-type {\n",
       "        vertical-align: middle;\n",
       "    }\n",
       "\n",
       "    .dataframe tbody tr th {\n",
       "        vertical-align: top;\n",
       "    }\n",
       "\n",
       "    .dataframe thead th {\n",
       "        text-align: right;\n",
       "    }\n",
       "</style>\n",
       "<table border=\"1\" class=\"dataframe\">\n",
       "  <thead>\n",
       "    <tr style=\"text-align: right;\">\n",
       "      <th></th>\n",
       "      <th>sex</th>\n",
       "      <th>patient_type</th>\n",
       "      <th>intubed</th>\n",
       "      <th>pneumonia</th>\n",
       "      <th>age</th>\n",
       "      <th>pregnancy</th>\n",
       "      <th>diabetes</th>\n",
       "      <th>copd</th>\n",
       "      <th>asthma</th>\n",
       "      <th>inmsupr</th>\n",
       "      <th>hypertension</th>\n",
       "      <th>other_disease</th>\n",
       "      <th>cardiovascular</th>\n",
       "      <th>obesity</th>\n",
       "      <th>renal_chronic</th>\n",
       "      <th>tobacco</th>\n",
       "      <th>contact_other_covid</th>\n",
       "      <th>Test_result</th>\n",
       "      <th>icu</th>\n",
       "    </tr>\n",
       "  </thead>\n",
       "  <tbody>\n",
       "    <tr>\n",
       "      <th>0</th>\n",
       "      <td>Male</td>\n",
       "      <td>Outpatient</td>\n",
       "      <td>97</td>\n",
       "      <td>2</td>\n",
       "      <td>27</td>\n",
       "      <td>97</td>\n",
       "      <td>No</td>\n",
       "      <td>No</td>\n",
       "      <td>No</td>\n",
       "      <td>No</td>\n",
       "      <td>No</td>\n",
       "      <td>No</td>\n",
       "      <td>No</td>\n",
       "      <td>No</td>\n",
       "      <td>No</td>\n",
       "      <td>No</td>\n",
       "      <td>No</td>\n",
       "      <td>Positive</td>\n",
       "      <td>NaN</td>\n",
       "    </tr>\n",
       "    <tr>\n",
       "      <th>1</th>\n",
       "      <td>Male</td>\n",
       "      <td>Outpatient</td>\n",
       "      <td>97</td>\n",
       "      <td>2</td>\n",
       "      <td>24</td>\n",
       "      <td>97</td>\n",
       "      <td>No</td>\n",
       "      <td>No</td>\n",
       "      <td>No</td>\n",
       "      <td>No</td>\n",
       "      <td>No</td>\n",
       "      <td>No</td>\n",
       "      <td>No</td>\n",
       "      <td>No</td>\n",
       "      <td>No</td>\n",
       "      <td>No</td>\n",
       "      <td>NaN</td>\n",
       "      <td>Positive</td>\n",
       "      <td>NaN</td>\n",
       "    </tr>\n",
       "    <tr>\n",
       "      <th>2</th>\n",
       "      <td>Female</td>\n",
       "      <td>Inpatient</td>\n",
       "      <td>2</td>\n",
       "      <td>2</td>\n",
       "      <td>54</td>\n",
       "      <td>2</td>\n",
       "      <td>No</td>\n",
       "      <td>No</td>\n",
       "      <td>No</td>\n",
       "      <td>No</td>\n",
       "      <td>No</td>\n",
       "      <td>No</td>\n",
       "      <td>No</td>\n",
       "      <td>Yes</td>\n",
       "      <td>No</td>\n",
       "      <td>No</td>\n",
       "      <td>NaN</td>\n",
       "      <td>Positive</td>\n",
       "      <td>No</td>\n",
       "    </tr>\n",
       "    <tr>\n",
       "      <th>3</th>\n",
       "      <td>Male</td>\n",
       "      <td>Inpatient</td>\n",
       "      <td>2</td>\n",
       "      <td>1</td>\n",
       "      <td>30</td>\n",
       "      <td>97</td>\n",
       "      <td>No</td>\n",
       "      <td>No</td>\n",
       "      <td>No</td>\n",
       "      <td>No</td>\n",
       "      <td>No</td>\n",
       "      <td>No</td>\n",
       "      <td>No</td>\n",
       "      <td>No</td>\n",
       "      <td>No</td>\n",
       "      <td>No</td>\n",
       "      <td>NaN</td>\n",
       "      <td>Positive</td>\n",
       "      <td>No</td>\n",
       "    </tr>\n",
       "    <tr>\n",
       "      <th>4</th>\n",
       "      <td>Female</td>\n",
       "      <td>Inpatient</td>\n",
       "      <td>2</td>\n",
       "      <td>2</td>\n",
       "      <td>60</td>\n",
       "      <td>2</td>\n",
       "      <td>Yes</td>\n",
       "      <td>No</td>\n",
       "      <td>No</td>\n",
       "      <td>No</td>\n",
       "      <td>Yes</td>\n",
       "      <td>No</td>\n",
       "      <td>Yes</td>\n",
       "      <td>No</td>\n",
       "      <td>No</td>\n",
       "      <td>No</td>\n",
       "      <td>NaN</td>\n",
       "      <td>Positive</td>\n",
       "      <td>No</td>\n",
       "    </tr>\n",
       "  </tbody>\n",
       "</table>\n",
       "</div>"
      ],
      "text/plain": [
       "      sex patient_type  intubed  pneumonia  age  pregnancy diabetes copd  \\\n",
       "0    Male   Outpatient       97          2   27         97       No   No   \n",
       "1    Male   Outpatient       97          2   24         97       No   No   \n",
       "2  Female    Inpatient        2          2   54          2       No   No   \n",
       "3    Male    Inpatient        2          1   30         97       No   No   \n",
       "4  Female    Inpatient        2          2   60          2      Yes   No   \n",
       "\n",
       "  asthma inmsupr hypertension other_disease cardiovascular obesity  \\\n",
       "0     No      No           No            No             No      No   \n",
       "1     No      No           No            No             No      No   \n",
       "2     No      No           No            No             No     Yes   \n",
       "3     No      No           No            No             No      No   \n",
       "4     No      No          Yes            No            Yes      No   \n",
       "\n",
       "  renal_chronic tobacco contact_other_covid Test_result  icu  \n",
       "0            No      No                  No    Positive  NaN  \n",
       "1            No      No                 NaN    Positive  NaN  \n",
       "2            No      No                 NaN    Positive   No  \n",
       "3            No      No                 NaN    Positive   No  \n",
       "4            No      No                 NaN    Positive   No  "
      ]
     },
     "execution_count": 37,
     "metadata": {},
     "output_type": "execute_result"
    }
   ],
   "source": [
    "# Get names of indexes for which column Stock has value No\n",
    "indexNames = df[ df['Test_result'] == 'Results Awaited' ].index\n",
    "# Delete these row indexes from dataFrame\n",
    "df.drop(indexNames , inplace=True)\n",
    "df.head()"
   ]
  },
  {
   "cell_type": "code",
   "execution_count": 38,
   "metadata": {},
   "outputs": [
    {
     "name": "stdout",
     "output_type": "stream",
     "text": [
      "Categorical Features: ['sex', 'patient_type', 'diabetes', 'copd', 'asthma', 'inmsupr', 'hypertension', 'other_disease', 'cardiovascular', 'obesity', 'renal_chronic', 'tobacco', 'contact_other_covid', 'Test_result', 'icu']\n",
      "Numerical Features: ['intubed', 'pneumonia', 'age', 'pregnancy']\n"
     ]
    }
   ],
   "source": [
    "cat_features=df.select_dtypes(include='object').columns.tolist()\n",
    "print(\"Categorical Features:\",cat_features)\n",
    "num_features=df.select_dtypes(exclude='object').columns.tolist()\n",
    "print(\"Numerical Features:\",num_features)"
   ]
  },
  {
   "cell_type": "code",
   "execution_count": 39,
   "metadata": {},
   "outputs": [
    {
     "data": {
      "text/plain": [
       "0"
      ]
     },
     "execution_count": 39,
     "metadata": {},
     "output_type": "execute_result"
    }
   ],
   "source": [
    "df['sex']=df['sex'].fillna(df['sex'].mode()[0])\n",
    "df['sex'].isnull().sum()"
   ]
  },
  {
   "cell_type": "code",
   "execution_count": 40,
   "metadata": {},
   "outputs": [
    {
     "data": {
      "text/plain": [
       "0"
      ]
     },
     "execution_count": 40,
     "metadata": {},
     "output_type": "execute_result"
    }
   ],
   "source": [
    "df['patient_type']=df['patient_type'].fillna(df['patient_type'].mode()[0])\n",
    "df['patient_type'].isnull().sum()"
   ]
  },
  {
   "cell_type": "code",
   "execution_count": 41,
   "metadata": {},
   "outputs": [
    {
     "data": {
      "text/plain": [
       "0"
      ]
     },
     "execution_count": 41,
     "metadata": {},
     "output_type": "execute_result"
    }
   ],
   "source": [
    "df['intubed']=df['intubed'].fillna(df['intubed'].mode()[0])\n",
    "df['intubed'].isnull().sum()"
   ]
  },
  {
   "cell_type": "code",
   "execution_count": 42,
   "metadata": {},
   "outputs": [
    {
     "data": {
      "text/plain": [
       "0"
      ]
     },
     "execution_count": 42,
     "metadata": {},
     "output_type": "execute_result"
    }
   ],
   "source": [
    "df['pneumonia']=df['pneumonia'].fillna(df['pneumonia'].mode()[0])\n",
    "df['pneumonia'].isnull().sum()"
   ]
  },
  {
   "cell_type": "code",
   "execution_count": 43,
   "metadata": {},
   "outputs": [
    {
     "data": {
      "text/plain": [
       "0"
      ]
     },
     "execution_count": 43,
     "metadata": {},
     "output_type": "execute_result"
    }
   ],
   "source": [
    "df['diabetes']=df['diabetes'].fillna(df['diabetes'].mode()[0])\n",
    "df['diabetes'].isnull().sum()"
   ]
  },
  {
   "cell_type": "code",
   "execution_count": 44,
   "metadata": {},
   "outputs": [
    {
     "data": {
      "text/plain": [
       "0"
      ]
     },
     "execution_count": 44,
     "metadata": {},
     "output_type": "execute_result"
    }
   ],
   "source": [
    "df['pregnancy']=df['pregnancy'].fillna(df['pregnancy'].mode()[0])\n",
    "df['pregnancy'].isnull().sum()"
   ]
  },
  {
   "cell_type": "code",
   "execution_count": 45,
   "metadata": {},
   "outputs": [
    {
     "data": {
      "text/plain": [
       "0"
      ]
     },
     "execution_count": 45,
     "metadata": {},
     "output_type": "execute_result"
    }
   ],
   "source": [
    "df['copd']=df['copd'].fillna(df['copd'].mode()[0])\n",
    "df['copd'].isnull().sum()"
   ]
  },
  {
   "cell_type": "code",
   "execution_count": 46,
   "metadata": {},
   "outputs": [
    {
     "data": {
      "text/plain": [
       "0"
      ]
     },
     "execution_count": 46,
     "metadata": {},
     "output_type": "execute_result"
    }
   ],
   "source": [
    "df['asthma']=df['asthma'].fillna(df['asthma'].mode()[0])\n",
    "df['asthma'].isnull().sum()"
   ]
  },
  {
   "cell_type": "code",
   "execution_count": 47,
   "metadata": {},
   "outputs": [
    {
     "data": {
      "text/plain": [
       "0"
      ]
     },
     "execution_count": 47,
     "metadata": {},
     "output_type": "execute_result"
    }
   ],
   "source": [
    "df['inmsupr']=df['inmsupr'].fillna(df['inmsupr'].mode()[0])\n",
    "df['inmsupr'].isnull().sum()"
   ]
  },
  {
   "cell_type": "code",
   "execution_count": 48,
   "metadata": {},
   "outputs": [
    {
     "data": {
      "text/plain": [
       "0"
      ]
     },
     "execution_count": 48,
     "metadata": {},
     "output_type": "execute_result"
    }
   ],
   "source": [
    "df['hypertension']=df['hypertension'].fillna(df['hypertension'].mode()[0])\n",
    "df['hypertension'].isnull().sum()"
   ]
  },
  {
   "cell_type": "code",
   "execution_count": 49,
   "metadata": {},
   "outputs": [
    {
     "data": {
      "text/plain": [
       "0"
      ]
     },
     "execution_count": 49,
     "metadata": {},
     "output_type": "execute_result"
    }
   ],
   "source": [
    "df['tobacco']=df['tobacco'].fillna(df['tobacco'].mode()[0])\n",
    "df['tobacco'].isnull().sum()"
   ]
  },
  {
   "cell_type": "code",
   "execution_count": 50,
   "metadata": {},
   "outputs": [
    {
     "data": {
      "text/plain": [
       "0"
      ]
     },
     "execution_count": 50,
     "metadata": {},
     "output_type": "execute_result"
    }
   ],
   "source": [
    "df['renal_chronic']=df['renal_chronic'].fillna(df['renal_chronic'].mode()[0])\n",
    "df['renal_chronic'].isnull().sum()"
   ]
  },
  {
   "cell_type": "code",
   "execution_count": 51,
   "metadata": {},
   "outputs": [
    {
     "data": {
      "text/plain": [
       "0"
      ]
     },
     "execution_count": 51,
     "metadata": {},
     "output_type": "execute_result"
    }
   ],
   "source": [
    "df['obesity']=df['obesity'].fillna(df['obesity'].mode()[0])\n",
    "df['obesity'].isnull().sum()"
   ]
  },
  {
   "cell_type": "code",
   "execution_count": 52,
   "metadata": {},
   "outputs": [
    {
     "data": {
      "text/plain": [
       "0"
      ]
     },
     "execution_count": 52,
     "metadata": {},
     "output_type": "execute_result"
    }
   ],
   "source": [
    "df['cardiovascular']=df['cardiovascular'].fillna(df['cardiovascular'].mode()[0])\n",
    "df['cardiovascular'].isnull().sum()"
   ]
  },
  {
   "cell_type": "code",
   "execution_count": 53,
   "metadata": {},
   "outputs": [
    {
     "data": {
      "text/plain": [
       "0"
      ]
     },
     "execution_count": 53,
     "metadata": {},
     "output_type": "execute_result"
    }
   ],
   "source": [
    "df['contact_other_covid']=df['contact_other_covid'].fillna(df['contact_other_covid'].mode()[0])\n",
    "df['contact_other_covid'].isnull().sum()"
   ]
  },
  {
   "cell_type": "code",
   "execution_count": 54,
   "metadata": {},
   "outputs": [
    {
     "data": {
      "text/plain": [
       "0"
      ]
     },
     "execution_count": 54,
     "metadata": {},
     "output_type": "execute_result"
    }
   ],
   "source": [
    "df['other_disease']=df['other_disease'].fillna(df['other_disease'].mode()[0])\n",
    "df['other_disease'].isnull().sum()"
   ]
  },
  {
   "cell_type": "code",
   "execution_count": 55,
   "metadata": {},
   "outputs": [
    {
     "data": {
      "text/plain": [
       "0"
      ]
     },
     "execution_count": 55,
     "metadata": {},
     "output_type": "execute_result"
    }
   ],
   "source": [
    "df['icu']=df['icu'].fillna(df['icu'].mode()[0])\n",
    "df['icu'].isnull().sum()"
   ]
  },
  {
   "cell_type": "code",
   "execution_count": 56,
   "metadata": {},
   "outputs": [
    {
     "data": {
      "text/plain": [
       "sex                    0\n",
       "patient_type           0\n",
       "intubed                0\n",
       "pneumonia              0\n",
       "age                    0\n",
       "pregnancy              0\n",
       "diabetes               0\n",
       "copd                   0\n",
       "asthma                 0\n",
       "inmsupr                0\n",
       "hypertension           0\n",
       "other_disease          0\n",
       "cardiovascular         0\n",
       "obesity                0\n",
       "renal_chronic          0\n",
       "tobacco                0\n",
       "contact_other_covid    0\n",
       "Test_result            0\n",
       "icu                    0\n",
       "dtype: int64"
      ]
     },
     "execution_count": 56,
     "metadata": {},
     "output_type": "execute_result"
    }
   ],
   "source": [
    "df.isnull().sum()"
   ]
  },
  {
   "cell_type": "code",
   "execution_count": 57,
   "metadata": {},
   "outputs": [],
   "source": [
    "from sklearn.preprocessing import StandardScaler,LabelEncoder\n",
    "cat_features=df.select_dtypes(include='object').columns.tolist()\n",
    "le=LabelEncoder()\n",
    "for col in cat_features:\n",
    "    df[col]=le.fit_transform(df[col])\n",
    "    "
   ]
  },
  {
   "cell_type": "code",
   "execution_count": 58,
   "metadata": {},
   "outputs": [],
   "source": [
    "from sklearn.model_selection import train_test_split\n",
    "x = df.drop('Test_result', axis = 1)\n",
    "y = df.Test_result\n",
    "from sklearn.preprocessing import RobustScaler\n",
    "x= RobustScaler().fit_transform(x)\n",
    "x_train, x_test, y_train, y_test = train_test_split(x, y, test_size= 0.3)"
   ]
  },
  {
   "cell_type": "code",
   "execution_count": 60,
   "metadata": {},
   "outputs": [
    {
     "name": "stdout",
     "output_type": "stream",
     "text": [
      "ada_accuracy 0.6343557381860875\n",
      "ada_precision 0.6260986798333158\n",
      "ada_recall 0.8552636299494146\n",
      "ada_f1_score 0.7229553851674761\n",
      "[[71518 12103]\n",
      " [42710 23577]]\n",
      "             precision    recall  f1-score   support\n",
      "\n",
      "          0       0.63      0.86      0.72     83621\n",
      "          1       0.66      0.36      0.46     66287\n",
      "\n",
      "avg / total       0.64      0.63      0.61    149908\n",
      "\n"
     ]
    }
   ],
   "source": [
    "from sklearn.ensemble import AdaBoostClassifier\n",
    "from sklearn.tree import DecisionTreeClassifier\n",
    "from sklearn import metrics\n",
    "\n",
    "\n",
    "Ada_model=AdaBoostClassifier(DecisionTreeClassifier(max_depth=1),n_estimators=500,learning_rate=0.1)\n",
    "Ada_model.fit(x_train,y_train)\n",
    "ada_pred=Ada_model.predict(x_test)\n",
    "ada_accuracy = metrics.accuracy_score(y_test, ada_pred)\n",
    "print(\"ada_accuracy\",ada_accuracy)\n",
    "\n",
    "ada_precision=metrics.precision_score(y_test, ada_pred,pos_label=0)\n",
    "print(\"ada_precision\",ada_precision)\n",
    "\n",
    "ada_recall=metrics.recall_score(y_test, ada_pred,pos_label=0)\n",
    "print(\"ada_recall\",ada_recall)\n",
    "\n",
    "ada_f1_score= metrics.f1_score(y_test, ada_pred,pos_label=0)\n",
    "print(\"ada_f1_score\",ada_f1_score)\n",
    "\n",
    "print(confusion_matrix(y_test,ada_pred))\n",
    "print(classification_report(y_test,ada_pred))"
   ]
  },
  {
   "cell_type": "code",
   "execution_count": 59,
   "metadata": {},
   "outputs": [
    {
     "name": "stdout",
     "output_type": "stream",
     "text": [
      "Grad_boost_accuracy 0.6363169410571817\n",
      "Grad_boost_precision 0.625489418217569\n",
      "Grad_boost_recall 0.867341935638177\n",
      "Grad_boost_f1_score 0.7268245020668922\n",
      "[[72528 11093]\n",
      " [43426 22861]]\n",
      "             precision    recall  f1-score   support\n",
      "\n",
      "          0       0.63      0.87      0.73     83621\n",
      "          1       0.67      0.34      0.46     66287\n",
      "\n",
      "avg / total       0.65      0.64      0.61    149908\n",
      "\n"
     ]
    }
   ],
   "source": [
    "from sklearn.ensemble import GradientBoostingClassifier\n",
    "\n",
    "Grad_boost = GradientBoostingClassifier()\n",
    "Grad_boost.fit(x_train, y_train)\n",
    "Grad_boost_pred = Grad_boost.predict(x_test)\n",
    "Grad_boost_accuracy = metrics.accuracy_score(y_test, Grad_boost_pred)\n",
    "print(\"Grad_boost_accuracy\",Grad_boost_accuracy)\n",
    "\n",
    "Grad_boost_precision=metrics.precision_score(y_test, Grad_boost_pred,pos_label=0)\n",
    "print(\"Grad_boost_precision\",Grad_boost_precision)\n",
    "\n",
    "Grad_boost_recall=metrics.recall_score(y_test, Grad_boost_pred,pos_label=0)\n",
    "print(\"Grad_boost_recall\",Grad_boost_recall)\n",
    "\n",
    "Grad_boost_f1_score= metrics.f1_score(y_test, Grad_boost_pred,pos_label=0)\n",
    "print(\"Grad_boost_f1_score\",Grad_boost_f1_score)\n",
    "\n",
    "print(confusion_matrix(y_test,Grad_boost_pred))\n",
    "print(classification_report(y_test,Grad_boost_pred))"
   ]
  },
  {
   "cell_type": "markdown",
   "metadata": {},
   "source": [
    "# Logistic regression without CV"
   ]
  },
  {
   "cell_type": "code",
   "execution_count": 61,
   "metadata": {},
   "outputs": [
    {
     "name": "stdout",
     "output_type": "stream",
     "text": [
      "log_accuracy 0.6202404141206607\n",
      "log_precision 0.6417525225703664\n",
      "log_recall 0.7225577307135768\n",
      "log_f1_score 0.6797621659325761\n",
      "[[60421 23200]\n",
      " [33729 32558]]\n",
      "             precision    recall  f1-score   support\n",
      "\n",
      "          0       0.64      0.72      0.68     83621\n",
      "          1       0.58      0.49      0.53     66287\n",
      "\n",
      "avg / total       0.62      0.62      0.62    149908\n",
      "\n"
     ]
    }
   ],
   "source": [
    "from sklearn.linear_model import LogisticRegression\n",
    "log = LogisticRegression(class_weight='balanced')\n",
    "log.fit(x_train, y_train)\n",
    "log_pred = log.predict(x_test)\n",
    "log_accuracy = metrics.accuracy_score(y_test, log_pred)\n",
    "print(\"log_accuracy\",log_accuracy)\n",
    "\n",
    "log_precision=metrics.precision_score(y_test, log_pred,pos_label=0)\n",
    "print(\"log_precision\",log_precision)\n",
    "\n",
    "log_recall=metrics.recall_score(y_test, log_pred,pos_label=0)\n",
    "print(\"log_recall\",log_recall)\n",
    "\n",
    "log_f1_score= metrics.f1_score(y_test, log_pred,pos_label=0)\n",
    "print(\"log_f1_score\",log_f1_score)\n",
    "\n",
    "print(confusion_matrix(y_test,log_pred))\n",
    "print(classification_report(y_test,log_pred))"
   ]
  },
  {
   "cell_type": "markdown",
   "metadata": {},
   "source": [
    "# Logistic regression with CV"
   ]
  },
  {
   "cell_type": "code",
   "execution_count": 63,
   "metadata": {},
   "outputs": [
    {
     "name": "stdout",
     "output_type": "stream",
     "text": [
      "log_cv_accuracy 0.6188171970889943\n",
      "log_cv_precision 0.6111488639167997\n",
      "log_cv_recall 0.6052662115249381\n",
      "log_cv_f1_score 0.6050325901188338\n"
     ]
    }
   ],
   "source": [
    "from sklearn.model_selection import cross_val_score\n",
    "log_cross_val = cross_val_score(log, x, y, cv=10, scoring='accuracy')\n",
    "log_cv_accuracy = log_cross_val.mean()\n",
    "print(\"log_cv_accuracy\",log_cv_accuracy)\n",
    "\n",
    "log_cross_val_pre = cross_val_score(log, x, y, cv=10, scoring='precision_macro')\n",
    "log_cv_precision = log_cross_val_pre.mean()\n",
    "print(\"log_cv_precision\",log_cv_precision)\n",
    "\n",
    "log_cross_val_re = cross_val_score(log, x, y, cv=10, scoring='recall_macro')\n",
    "log_cv_recall = log_cross_val_re.mean()\n",
    "print(\"log_cv_recall\",log_cv_recall)\n",
    "\n",
    "log_cross_val_f1 = cross_val_score(log, x, y, cv=10, scoring='f1_macro')\n",
    "log_cv_f1_score = log_cross_val_f1.mean()\n",
    "print(\"log_cv_f1_score\",log_cv_f1_score)"
   ]
  },
  {
   "cell_type": "markdown",
   "metadata": {},
   "source": [
    "# Multilayer Perceptron"
   ]
  },
  {
   "cell_type": "code",
   "execution_count": 64,
   "metadata": {},
   "outputs": [
    {
     "name": "stdout",
     "output_type": "stream",
     "text": [
      "MLP_accuracy 0.6366704912346239\n",
      "MLP_precision 0.6245163274196441\n",
      "MLP_recall 0.87434974468136\n",
      "MLP_f1_score 0.7286117173408273\n",
      "[[73114 10507]\n",
      " [43959 22328]]\n",
      "             precision    recall  f1-score   support\n",
      "\n",
      "          0       0.62      0.87      0.73     83621\n",
      "          1       0.68      0.34      0.45     66287\n",
      "\n",
      "avg / total       0.65      0.64      0.61    149908\n",
      "\n"
     ]
    }
   ],
   "source": [
    "from sklearn.neural_network import MLPClassifier\n",
    "MLP = MLPClassifier(max_iter=200,activation='logistic')\n",
    "MLP.fit(x_train, y_train)\n",
    "MLP_pred = MLP.predict(x_test)\n",
    "MLP_accuracy = metrics.accuracy_score(y_test, MLP_pred)\n",
    "print(\"MLP_accuracy\",MLP_accuracy)\n",
    "\n",
    "MLP_precision=metrics.precision_score(y_test, MLP_pred,pos_label=0)\n",
    "print(\"MLP_precision\",MLP_precision)\n",
    "\n",
    "MLP_recall=metrics.recall_score(y_test, MLP_pred,pos_label=0)\n",
    "print(\"MLP_recall\",MLP_recall)\n",
    "\n",
    "MLP_f1_score= metrics.f1_score(y_test, MLP_pred,pos_label=0)\n",
    "print(\"MLP_f1_score\",MLP_f1_score)\n",
    "\n",
    "print(confusion_matrix(y_test,MLP_pred))\n",
    "print(classification_report(y_test,MLP_pred))"
   ]
  },
  {
   "cell_type": "markdown",
   "metadata": {},
   "source": [
    "# Multilayer Perceptron with Cross Validation"
   ]
  },
  {
   "cell_type": "code",
   "execution_count": 65,
   "metadata": {},
   "outputs": [
    {
     "name": "stdout",
     "output_type": "stream",
     "text": [
      "MLP_cv_accuracy 0.6352553242130312\n",
      "MLP_cv_precision 0.6471512625194834\n",
      "MLP_cv_recall 0.6061434445793655\n",
      "MLP_cv_f1_score 0.591509241572409\n"
     ]
    }
   ],
   "source": [
    "MLP_cross_val = cross_val_score(MLP, x, y, cv=10, scoring='accuracy')\n",
    "MLP_cv_accuracy = MLP_cross_val.mean()\n",
    "print(\"MLP_cv_accuracy\",MLP_cv_accuracy)\n",
    "\n",
    "MLP_cross_val_pre = cross_val_score(MLP, x, y, cv=10, scoring='precision_macro')\n",
    "MLP_cv_precision = MLP_cross_val_pre.mean()\n",
    "print(\"MLP_cv_precision\",MLP_cv_precision)\n",
    "\n",
    "MLP_cross_val_re = cross_val_score(MLP, x, y, cv=10, scoring='recall_macro')\n",
    "MLP_cv_recall = MLP_cross_val_re.mean()\n",
    "print(\"MLP_cv_recall\",MLP_cv_recall)\n",
    "\n",
    "MLP_cross_val_f1 = cross_val_score(MLP, x, y, cv=10, scoring='f1_macro')\n",
    "MLP_cv_f1_score = MLP_cross_val_f1.mean()\n",
    "print(\"MLP_cv_f1_score\",MLP_cv_f1_score)"
   ]
  },
  {
   "cell_type": "code",
   "execution_count": 66,
   "metadata": {},
   "outputs": [
    {
     "name": "stdout",
     "output_type": "stream",
     "text": [
      "MLP_cv_accuracy 0.6353653922151061\n",
      "MLP_cv_precision 0.6459656321908167\n",
      "MLP_cv_recall 0.6057919943261352\n",
      "MLP_cv_f1_score 0.5911770879053253\n"
     ]
    }
   ],
   "source": [
    "MLP_cross_val = cross_val_score(MLP, x, y, cv=10, scoring='accuracy')\n",
    "MLP_cv_accuracy = MLP_cross_val.mean()\n",
    "print(\"MLP_cv_accuracy\",MLP_cv_accuracy)\n",
    "\n",
    "MLP_cross_val_pre = cross_val_score(MLP, x, y, cv=10, scoring='precision_macro')\n",
    "MLP_cv_precision = MLP_cross_val_pre.mean()\n",
    "print(\"MLP_cv_precision\",MLP_cv_precision)\n",
    "\n",
    "MLP_cross_val_re = cross_val_score(MLP, x, y, cv=10, scoring='recall_macro')\n",
    "MLP_cv_recall = MLP_cross_val_re.mean()\n",
    "print(\"MLP_cv_recall\",MLP_cv_recall)\n",
    "\n",
    "MLP_cross_val_f1 = cross_val_score(MLP, x, y, cv=10, scoring='f1_macro')\n",
    "MLP_cv_f1_score = MLP_cross_val_f1.mean()\n",
    "print(\"MLP_cv_f1_score\",MLP_cv_f1_score)"
   ]
  },
  {
   "cell_type": "code",
   "execution_count": null,
   "metadata": {},
   "outputs": [],
   "source": []
  }
 ],
 "metadata": {
  "kernelspec": {
   "display_name": "Python 3",
   "language": "python",
   "name": "python3"
  },
  "language_info": {
   "codemirror_mode": {
    "name": "ipython",
    "version": 3
   },
   "file_extension": ".py",
   "mimetype": "text/x-python",
   "name": "python",
   "nbconvert_exporter": "python",
   "pygments_lexer": "ipython3",
   "version": "3.6.5"
  }
 },
 "nbformat": 4,
 "nbformat_minor": 2
}
